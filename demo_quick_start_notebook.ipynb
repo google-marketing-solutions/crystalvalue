{
  "cells": [
    {
      "cell_type": "markdown",
      "id": "A9YRrFYNY37s",
      "metadata": {
        "id": "A9YRrFYNY37s"
      },
      "source": [
        "# DISCLAIMER\n",
        "Copyright 2021 Google LLC. \n",
        "\n",
        "*This solution, including any related sample code or data, is made available on an “as is,” “as available,” and “with all faults” basis, solely for illustrative purposes, and without warranty or representation of any kind. This solution is experimental, unsupported and provided solely for your convenience. Your use of it is subject to your agreements with Google, as applicable, and may constitute a beta feature as defined under those agreements. To the extent that you make any data available to Google in connection with your use of the solution, you represent and warrant that you have all necessary and appropriate rights, consents and permissions to permit Google to use and process that data. By using any portion of this solution, you acknowledge, assume and accept all risks, known and unknown, associated with its usage, including with respect to your deployment of any portion of this solution in your systems, or usage in connection with your business, if at all.*"
      ]
    },
    {
      "cell_type": "markdown",
      "id": "iTsKaxLPY37t",
      "metadata": {
        "id": "iTsKaxLPY37t"
      },
      "source": [
        "# Crystalvalue Demo: Predictive Customer LifeTime Value using Synthetic Data\n",
        "\n",
        "This demo runs the Crystalvalue python library in a notebook using generated synthetic data. This notebook assumes that it is being run from within a [Google Cloud Platform AI Notebook](https://console.cloud.google.com/vertex-ai/notebooks/list/instances) with a Compute Engine default service account (the default setting when an AI Notebook is created) and with a standard Python 3 environment. For more details on the library please see the readme or for a more in-depth guide, including scheduling predictions, please see the `demo_with_real_data_notebook.ipynb`."
      ]
    },
    {
      "cell_type": "code",
      "execution_count": null,
      "id": "mKWzgxQ1Y37v",
      "metadata": {
        "id": "mKWzgxQ1Y37v"
      },
      "outputs": [],
      "source": [
        "import pandas as pd\n",
        "\n",
        "from src import crystalvalue"
      ]
    },
    {
      "cell_type": "code",
      "execution_count": null,
      "id": "gCVphBgXY37w",
      "metadata": {
        "id": "gCVphBgXY37w"
      },
      "outputs": [],
      "source": [
        "# Initiate the CrystalValue class with the relevant parameters.\n",
        "pipeline = crystalvalue.CrystalValue(\n",
        "  project_id='your_project_name',  # Enter your GCP Project name.\n",
        "  dataset_id='a_dataset_name'  # The dataset will be created if it doesn't exist.\n",
        "  )  "
      ]
    },
    {
      "cell_type": "code",
      "execution_count": null,
      "id": "QThn6fzB8Xew",
      "metadata": {
        "id": "QThn6fzB8Xew"
      },
      "outputs": [],
      "source": [
        "# Create a synthetic dataset and load it to BigQuery.\n",
        "data = pipeline.create_synthetic_data(table_name='synthetic_data')"
      ]
    },
    {
      "cell_type": "code",
      "execution_count": null,
      "id": "o-6953VX9YRv",
      "metadata": {
        "id": "o-6953VX9YRv"
      },
      "outputs": [],
      "source": [
        "# Create summary statistics of the data and load it to Bigquery.\n",
        "summary_statistics = pipeline.run_data_checks(transaction_table_name='synthetic_data')"
      ]
    },
    {
      "cell_type": "code",
      "execution_count": null,
      "id": "yK5Lfb1SY37w",
      "metadata": {
        "id": "yK5Lfb1SY37w"
      },
      "outputs": [],
      "source": [
        "# Feature engineering for model training with test/train/validation split.\n",
        "crystalvalue_train_data = pipeline.feature_engineer(\n",
        "    transaction_table_name='synthetic_data')  "
      ]
    },
    {
      "cell_type": "code",
      "execution_count": null,
      "id": "CSK1FtHVY37y",
      "metadata": {
        "id": "CSK1FtHVY37y"
      },
      "outputs": [],
      "source": [
        "# Train an AutoML model. \n",
        "model_object = pipeline.train_automl_model()"
      ]
    },
    {
      "cell_type": "code",
      "execution_count": null,
      "id": "dxA48EdTcs3c",
      "metadata": {
        "id": "dxA48EdTcs3c"
      },
      "outputs": [],
      "source": [
        "# Deploy the model. \n",
        "model_object = pipeline.deploy_model()"
      ]
    },
    {
      "cell_type": "code",
      "execution_count": null,
      "id": "iCYiuW8pEEsQ",
      "metadata": {
        "id": "iCYiuW8pEEsQ"
      },
      "outputs": [],
      "source": [
        "# Evaluate the model.\n",
        "metrics = pipeline.evaluate_model()"
      ]
    },
    {
      "cell_type": "code",
      "execution_count": null,
      "id": "GDleZHjEEJ72",
      "metadata": {
        "id": "GDleZHjEEJ72"
      },
      "outputs": [],
      "source": [
        "# Create features for prediction.\n",
        "crystalvalue_predict_data = pipeline.feature_engineer(\n",
        "    transaction_table_name='synthetic_data',  \n",
        "    query_type='predict_query')\n",
        "\n",
        "# Predict LTV for all customers.\n",
        "predictions = pipeline.predict(\n",
        "    input_table=crystalvalue_predict_data,\n",
        "    destination_table='crystalvalue_predictions'  # The table will be created if it doesn't exist.\n",
        "    )  "
      ]
    },
    {
      "cell_type": "markdown",
      "id": "R7RczTD6S1_O",
      "metadata": {
        "id": "R7RczTD6S1_O"
      },
      "source": [
        "# Clean Up"
      ]
    },
    {
      "cell_type": "markdown",
      "id": "6FyiJ93rTWhW",
      "metadata": {
        "id": "6FyiJ93rTWhW"
      },
      "source": [
        "To clean up tables created during this demo, delete the BigQuery tables that were created. All Vertex AI resources can be removed from the [Vertex AI console](https://console.cloud.google.com/vertex-ai). "
      ]
    },
    {
      "cell_type": "code",
      "execution_count": null,
      "id": "1wQI6E8US3Hc",
      "metadata": {
        "id": "1wQI6E8US3Hc"
      },
      "outputs": [],
      "source": [
        "pipeline.delete_table('synthetic_data')\n",
        "pipeline.delete_table('crystalvalue_data_statistics')\n",
        "pipeline.delete_table('crystalvalue_evaluation')\n",
        "pipeline.delete_table('crystalvalue_train_data')\n",
        "pipeline.delete_table('crystalvalue_predict_data')\n",
        "pipeline.delete_table('crystalvalue_predictions')"
      ]
    }
  ],
  "metadata": {
    "colab": {
      "collapsed_sections": [],
      "last_runtime": {
        "build_target": "//corp/gtech/ads/infrastructure/colab_utils/ds_runtime:ds_colab",
        "kind": "private"
      },
      "name": "demo_quick_start_notebook.ipynb",
      "private_outputs": true,
      "provenance": [
        {
          "file_id": "/piper/depot/google3/third_party/professional_services/solutions/crystalvalue/demo_with_real_data_notebook.ipynb?workspaceId=dfkelly:crystal_dev::citc",
          "timestamp": 1636463779796
        },
        {
          "file_id": "/piper/depot/google3/third_party/professional_services/solutions/crystalvalue/crystalvalue_demo_notebook.ipynb?workspaceId=sumedhamenon:CrystalValue::citc",
          "timestamp": 1627656627042
        },
        {
          "file_id": "/piper/depot/google3/third_party/professional_services/solutions/crystalvalue/crystalvalue_demo_notebook.ipynb?workspaceId=sumedhamenon:CrystalValue::citc",
          "timestamp": 1627656460877
        },
        {
          "file_id": "/piper/depot/google3/experimental/gtech_prem_data_science/projects/trac/treatwell/Crystal_Value_Demo_Notebook.ipynb?workspaceId=sumedhamenon:CrystalValue::citc",
          "timestamp": 1627648785641
        },
        {
          "file_id": "1JGQRDc1_luQsaMxx9ZZavddHBrgO7Xst",
          "timestamp": 1627648471137
        }
      ]
    },
    "environment": {
      "name": "common-cpu.mnightly-2021-01-05-debian-10-test",
      "type": "gcloud",
      "uri": "gcr.io/deeplearning-platform-release/base-cpu:mnightly-2021-01-05-debian-10-test"
    },
    "kernelspec": {
      "display_name": "Python 3",
      "language": "python",
      "name": "python3"
    },
    "language_info": {
      "codemirror_mode": {
        "name": "ipython",
        "version": 3
      },
      "file_extension": ".py",
      "mimetype": "text/x-python",
      "name": "python",
      "nbconvert_exporter": "python",
      "pygments_lexer": "ipython3",
      "version": "3.7.9"
    }
  },
  "nbformat": 4,
  "nbformat_minor": 5
}
