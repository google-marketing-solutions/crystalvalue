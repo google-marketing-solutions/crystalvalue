{
  "cells": [
    {
      "cell_type": "markdown",
      "id": "A9YRrFYNY37s",
      "metadata": {
        "id": "A9YRrFYNY37s"
      },
      "source": [
        "# DISCLAIMER\n",
        "Copyright 2021 Google LLC. \n",
        "\n",
        "*This solution, including any related sample code or data, is made available on an “as is,” “as available,” and “with all faults” basis, solely for illustrative purposes, and without warranty or representation of any kind. This solution is experimental, unsupported and provided solely for your convenience. Your use of it is subject to your agreements with Google, as applicable, and may constitute a beta feature as defined under those agreements. To the extent that you make any data available to Google in connection with your use of the solution, you represent and warrant that you have all necessary and appropriate rights, consents and permissions to permit Google to use and process that data. By using any portion of this solution, you acknowledge, assume and accept all risks, known and unknown, associated with its usage, including with respect to your deployment of any portion of this solution in your systems, or usage in connection with your business, if at all.*"
      ]
    },
    {
      "cell_type": "markdown",
      "id": "iTsKaxLPY37t",
      "metadata": {
        "id": "iTsKaxLPY37t"
      },
      "source": [
        "# Estimating lifetime value of users via Crystalvalue\n",
        "\n",
        "**Crystalvalue** is a best practice comprehensive framework for running end-to-end LTV solutions leveraging Google Cloud Vertex AI AutoML.\n",
        "\n",
        "To illustrate how to use this library, this notebook uses the Online Retail II data set from Kaggle which contains all the transactions occurring for a UK-based and registered, non-store online retail between 01/12/2009 and 09/12/2011. The company mainly sells unique all-occasion gift-ware. More details on this dataset can be found here https://www.kaggle.com/mashlyn/online-retail-ii-uci."
      ]
    },
    {
      "cell_type": "markdown",
      "id": "WJajLx_EtUKR",
      "metadata": {
        "id": "WJajLx_EtUKR"
      },
      "source": [
        "# Set up - Getting access to the dataset"
      ]
    },
    {
      "cell_type": "markdown",
      "id": "iojPU3e4tW5z",
      "metadata": {
        "id": "iojPU3e4tW5z"
      },
      "source": [
        "In order to use the Kaggle API, In order to use the Kaggle’s public API, you must first authenticate using an API token. You can do this by visiting your Kaggle account and 'Creating New API Token'(See https://www.kaggle.com/docs/api)"
      ]
    },
    {
      "cell_type": "code",
      "execution_count": null,
      "id": "duYMfWZelG0f",
      "metadata": {
        "id": "duYMfWZelG0f"
      },
      "outputs": [],
      "source": [
        "!pip install kaggle"
      ]
    },
    {
      "cell_type": "markdown",
      "id": "6EXbt-qetckB",
      "metadata": {
        "id": "6EXbt-qetckB"
      },
      "source": [
        "Kaggle requires the json to be in a specific folder called 'kaggle'"
      ]
    },
    {
      "cell_type": "code",
      "execution_count": null,
      "id": "d-0X-BPrtcIJ",
      "metadata": {
        "id": "d-0X-BPrtcIJ"
      },
      "outputs": [],
      "source": [
        "!mkdir ~/.kaggle"
      ]
    },
    {
      "cell_type": "code",
      "execution_count": null,
      "id": "ZyIa1VNTta-n",
      "metadata": {
        "id": "ZyIa1VNTta-n"
      },
      "outputs": [],
      "source": [
        "!cp kaggle.json ~/.kaggle/kaggle.json"
      ]
    },
    {
      "cell_type": "code",
      "execution_count": null,
      "id": "qessvI1tthFT",
      "metadata": {
        "id": "qessvI1tthFT"
      },
      "outputs": [],
      "source": [
        "!kaggle datasets download -d mashlyn/online-retail-ii-uci"
      ]
    },
    {
      "cell_type": "code",
      "execution_count": null,
      "id": "cZPXzkP0tfoi",
      "metadata": {
        "id": "cZPXzkP0tfoi"
      },
      "outputs": [],
      "source": [
        "!sudo apt-get install unzip"
      ]
    },
    {
      "cell_type": "code",
      "execution_count": null,
      "id": "FQoIQXJBtjcZ",
      "metadata": {
        "id": "FQoIQXJBtjcZ"
      },
      "outputs": [],
      "source": [
        "!unzip online-retail-ii-uci.zip -d data/"
      ]
    },
    {
      "cell_type": "markdown",
      "id": "sDA4zRGytlAx",
      "metadata": {
        "id": "sDA4zRGytlAx"
      },
      "source": [
        "This creates a CSV which can be imported into Big Query.T he original dataset is\n",
        "at an item (StockCode) - transaction (InvoiceNo) level. The CrystalValue\n",
        "pipeline requires a transaction level Big Query dataset so the first step of\n",
        "data preparation is to create an aggregated Big Query table called\n",
        "'online_retail_tx' (aggregated by CustomerID, InvoiceNo and InvoiceDate)."
      ]
    },
    {
      "cell_type": "markdown",
      "id": "1O4OhKV5Y37u",
      "metadata": {
        "id": "1O4OhKV5Y37u"
      },
      "source": [
        "# Installing dependencies and initializing Crystalvalue"
      ]
    },
    {
      "cell_type": "code",
      "execution_count": null,
      "id": "m6gkj-aXY37u",
      "metadata": {
        "id": "m6gkj-aXY37u"
      },
      "outputs": [],
      "source": [
        "%pip install --upgrade -q -r 'crystalvalue/requirements.txt'"
      ]
    },
    {
      "cell_type": "code",
      "execution_count": null,
      "id": "mKWzgxQ1Y37v",
      "metadata": {
        "id": "mKWzgxQ1Y37v"
      },
      "outputs": [],
      "source": [
        "from crystalvalue import crystalvalue\n",
        "from google.cloud import bigquery"
      ]
    },
    {
      "cell_type": "code",
      "execution_count": null,
      "id": "TnNNkQNvY37v",
      "metadata": {
        "id": "TnNNkQNvY37v"
      },
      "outputs": [],
      "source": [
        "# Create BigQuery client for cloud authentication.\n",
        "bigquery_client = bigquery.Client()"
      ]
    },
    {
      "cell_type": "code",
      "execution_count": null,
      "id": "gCVphBgXY37w",
      "metadata": {
        "id": "gCVphBgXY37w"
      },
      "outputs": [],
      "source": [
        "# Initiate the CrystalValue class.\n",
        "pipeline = crystalvalue.CrystalValue(\n",
        "    bigquery_client=bigquery_client,\n",
        "    dataset_id='your_dataset_name',  # Dataset ID containing the table\n",
        "    customer_id_column='customer_id',\n",
        "    date_column='invoice_datetime',  # Date of transaction\n",
        "    value_column='revenue',  # metric to use for LTV calculation\n",
        "    window_date='2010-12-05'\n",
        ")  #  If the window_date is not provided, the Crystalvalue feature engineering script automatically chooses a window date that is 365 days before the end of the dataset."
      ]
    },
    {
      "cell_type": "markdown",
      "id": "5Bcu6lMlY37w",
      "metadata": {
        "id": "5Bcu6lMlY37w"
      },
      "source": [
        "# Feature Engineering\n",
        "\n",
        "Crystalvalue takes a transaction level dataset and creates a machine\n",
        "learning-ready dataset that can be ingested by AutoML. It will first create an\n",
        "SQL query (and write it to the file path and then execute it. Data types will be\n",
        "automatically detected from the BigQuery schema if `numerical_features` and\n",
        "`non_numerical_features` are not explicitly configured. By default, the model\n",
        "will use features from between 2 and 1 years ago to predict value from between 1\n",
        "year ago and now but this is configurable.\n",
        "\n",
        "Note: Columns should not be nested."
      ]
    },
    {
      "cell_type": "code",
      "execution_count": null,
      "id": "yK5Lfb1SY37w",
      "metadata": {
        "id": "yK5Lfb1SY37w"
      },
      "outputs": [],
      "source": [
        "# Perform feature engineering using BigQuery.\n",
        "\n",
        "# CrystalValue automatically detects data types and applies transformations.\n",
        "# CrystalValue by default will predict 1 year ahead (configurable) using data\n",
        "# accumulated from 1 year before (configurable).\n",
        "\n",
        "training_data = pipeline.feature_engineer(\n",
        "    transaction_table_name='online_retail_tx',  # name of the table that contains transaction (step Preparing table in BQ)\n",
        "    query_template_train_file='crystalvalue/sql_templates/train_user_split_new.sql',  # path to SQL file that will create table with training data in BQ. sql_templates folder contains two template scripts.\n",
        "    write_executed_query_file='crystalvalue/example_generated_crystalvalue_input.sql'  # File path to write the generated SQL query.\n",
        ")  "
      ]
    },
    {
      "cell_type": "markdown",
      "id": "xQ0yaFbBY37x",
      "metadata": {
        "id": "xQ0yaFbBY37x"
      },
      "source": [
        "# Model Training"
      ]
    },
    {
      "cell_type": "markdown",
      "id": "3JCdyprSY37x",
      "metadata": {
        "id": "3JCdyprSY37x"
      },
      "source": [
        "Crystalvalue leverages AutoML Tabular models (Vertex AI) which requires an\n",
        "AutoML Dataset as an input. This is done as part of the 'training' step of the\n",
        "pipeline. By default CrystalValue chooses the following(configurable): - A\n",
        "predefined split with random 15% of users as test, 15% in validation and 70% in\n",
        "training - Optimization objective as Minimize root-mean-squared error (RMSE).\n",
        "This is recommended but can be modified to MAE or RMSLE - 1 node hour of\n",
        "training (1000 milli node hours). It is recommended to modify this in line with\n",
        "the number of rows in the dataset.\n",
        "\n",
        "In this example we keep all the default settings so training model is as simple\n",
        "as calling pipeline.train(). For more details see:\n",
        "https://cloud.google.com/vertex-ai/docs/datasets/create-dataset-api\n",
        "https://cloud.google.com/vertex-ai/docs/training/automl-api"
      ]
    },
    {
      "cell_type": "code",
      "execution_count": null,
      "id": "CSK1FtHVY37y",
      "metadata": {
        "id": "CSK1FtHVY37y"
      },
      "outputs": [],
      "source": [
        "# Creates AI Platform Dataset and trains AutoML model.\n",
        "pipeline.train()\n",
        "# Once this step completes you can check out your trained AutoML model in the Google Cloud Platform UI! https://console.cloud.google.com//vertex-ai/models"
      ]
    },
    {
      "cell_type": "markdown",
      "id": "oJ6ZFLwrY37y",
      "metadata": {
        "id": "oJ6ZFLwrY37y"
      },
      "source": [
        "# Generating predictions"
      ]
    },
    {
      "cell_type": "markdown",
      "id": "jEzDVyiMY37z",
      "metadata": {
        "id": "jEzDVyiMY37z"
      },
      "source": [
        "Once model training is done, you can generate predictions by running `.predict()` method on `pipeline` object."
      ]
    },
    {
      "cell_type": "code",
      "execution_count": null,
      "id": "Z2sOiMID4X2-",
      "metadata": {
        "id": "Z2sOiMID4X2-"
      },
      "outputs": [],
      "source": [
        "pipeline.predict(\n",
        "    input_table_name='prediction_data',  # table that contains features to predict with.\n",
        "    model_resource_name='4028856894775885824',  #The resource name of the Vertex AI model - printed upon completion of the previous step or can be viewed via the Vertex AI dashboard(under 'Models' for the selected region).\n",
        ")"
      ]
    },
    {
      "cell_type": "markdown",
      "id": "ak21YwEHY37z",
      "metadata": {
        "id": "ak21YwEHY37z"
      },
      "source": [
        "There are 2 additional optional  parameters:\n",
        "* `model_name` - name of the model specified at `train` step. (default is 'crystalvalue_model')\n",
        "* `destination_table` - name of BigQuery table that contains predictions. (default is 'predictions')`.    "
      ]
    },
    {
      "cell_type": "markdown",
      "id": "Dok2Wu6UY370",
      "metadata": {
        "id": "Dok2Wu6UY370"
      },
      "source": [
        "# Model Evaluation"
      ]
    },
    {
      "cell_type": "markdown",
      "id": "wsJdx-MvY370",
      "metadata": {
        "id": "wsJdx-MvY370"
      },
      "source": [
        "To evaluate model goodness of fit, we use 3 criteria:\n",
        "\n",
        "* Bin level Charts - predicted vs actual LTV by decile\n",
        "* Spearman Correlation between predicted and actual LTV\n",
        "* Normalized Gini coefficient\n",
        "\n",
        "To ensure consistency and comparision across model runs, these outputs are sent to a Big Query table that can capture changes in model performance over all iterations."
      ]
    },
    {
      "cell_type": "code",
      "execution_count": null,
      "id": "0kVrowaQY370",
      "metadata": {
        "id": "0kVrowaQY370"
      },
      "outputs": [],
      "source": [
        "pipeline.evaluate(predictions_table='predictions',  # table that contains CrystalValue predictions.\n",
        "                  model_display_name='crystalvalue_model',  # Model name, default: crystalvalue_model\n",
        "                  table_evaluation_stats='Kaggle_crystalvalue_evaluation',  #Big Query Table to export evaluation statistics to' default: crystalvalue_evaluation\n",
        "                  number_bins=10)  #Number of bins for plots; default = 10"
      ]
    },
    {
      "cell_type": "markdown",
      "id": "V-SOhOm6Y370",
      "metadata": {
        "id": "V-SOhOm6Y370"
      },
      "source": [
        "# TO DO\n",
        "Elaborate once we are able to run the predictions on internal GCP projects"
      ]
    }
  ],
  "metadata": {
    "colab": {
      "collapsed_sections": [],
      "name": "crystalvalue_demo_notebook.ipynb",
      "private_outputs": true,
      "provenance": [
        {
          "file_id": "/piper/depot/google3/third_party/professional_services/solutions/crystalvalue/crystalvalue_demo_notebook.ipynb?workspaceId=sumedhamenon:CrystalValue::citc",
          "timestamp": 1627656627042
        },
        {
          "file_id": "/piper/depot/google3/third_party/professional_services/solutions/crystalvalue/crystalvalue_demo_notebook.ipynb?workspaceId=sumedhamenon:CrystalValue::citc",
          "timestamp": 1627656460877
        },
        {
          "file_id": "/piper/depot/google3/experimental/gtech_prem_data_science/projects/trac/treatwell/Crystal_Value_Demo_Notebook.ipynb?workspaceId=sumedhamenon:CrystalValue::citc",
          "timestamp": 1627648785641
        },
        {
          "file_id": "1JGQRDc1_luQsaMxx9ZZavddHBrgO7Xst",
          "timestamp": 1627648471137
        }
      ]
    },
    "environment": {
      "name": "common-cpu.mnightly-2021-01-05-debian-10-test",
      "type": "gcloud",
      "uri": "gcr.io/deeplearning-platform-release/base-cpu:mnightly-2021-01-05-debian-10-test"
    },
    "kernelspec": {
      "display_name": "Python 3",
      "language": "python",
      "name": "python3"
    },
    "language_info": {
      "codemirror_mode": {
        "name": "ipython",
        "version": 3
      },
      "file_extension": ".py",
      "mimetype": "text/x-python",
      "name": "python",
      "nbconvert_exporter": "python",
      "pygments_lexer": "ipython3",
      "version": "3.7.9"
    }
  },
  "nbformat": 4,
  "nbformat_minor": 5
}
